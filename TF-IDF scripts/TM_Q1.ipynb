{
 "cells": [
  {
   "cell_type": "markdown",
   "metadata": {},
   "source": [
    "# Topic Modeling with responses to stat based questions.\n",
    "Question 1: What role does error play in statistical inference?\n",
    "- Inspired by, Mattingly, William. Introduction to Topic Modeling and Text Classification, 2021. topic-modeling.pythonhumanities.com."
   ]
  },
  {
   "cell_type": "markdown",
   "metadata": {},
   "source": [
    "Importing the necessary packages.\n",
    "\n",
    "- Use each line below in terminal to install Scikit learn.\n",
    "    - python -m venv sklearn-env\n",
    "    - sklearn-env\\Scripts\\activate  # activate\n",
    "    - pip install -U scikit-learn\n",
    " \n",
    "- Use chunk below to verify the installation.\n",
    "    - python -m pip show scikit-learn  \n",
    "    - python -m pip freeze   \n",
    "    - python -c \"import sklearn; sklearn.show_versions()\""
   ]
  },
  {
   "cell_type": "code",
   "execution_count": 1,
   "metadata": {},
   "outputs": [],
   "source": [
    "import json # library for handling JSON files\n",
    "\n",
    "# Function to load data from a JSON file\n",
    "def load_data(file):\n",
    "    with open(file, \"r\", encoding = \"utf-8\") as f:\n",
    "        data = json.load(f)\n",
    "    return(data)\n",
    "\n"
   ]
  },
  {
   "cell_type": "code",
   "execution_count": 2,
   "metadata": {},
   "outputs": [
    {
     "name": "stdout",
     "output_type": "stream",
     "text": [
      "ID_code ['O.A', 'I.A', 'J.B', 'P.C', 'K.C', 'A.C', 'A.G', 'A.K', 'K.K', 'E.L', 'C.MD', 'S.M', 'O.P', 'T.P', 'A.Q', 'A.R', 'E.R', 'G.T', 'S.T']\n",
      "Question 1 ['Error helps determine the strength of the experiment and the power to reject the null hypothesis.', 'The role that error plays in statistical inference has to do with type one and type two error. Error helps us determine our null hypothesis. Meaning, did our results occur as a result of the independent variable? Or did it occur by chance, or error.', 'Error plays a role in statistical inference by showing between and within group differences. Error also shows where the data differs. In stats, error is always involved and is a part of many aspects of stats.', 'Error lets you know if the results of the study were purely due to chance. Error describes the difference WITHIN groups.', 'Error allows us to gain knowledge on a population and what has statistical significance.', \"The role that error plays in statistical inference is that an inference can be influenced by the data presented. And if there is error present in the data, the statistical inference wouldn't be accurate to the data. Fix the error, and the inference of the data would likely change.\", 'The chance of error can be decreased when the sample size is larger, when the sample size is smaller, an error has more of a chance of occurring.', 'It allows people to determine how accurate a study may be and to make inferences and predictions based on how consistent the data is in an experiment.', 'Error can help measure the random chance in an experiment.', 'It weakens statistical inferences.', 'Discovering error, also known as chance, can help to determine whether a researchers hypothesis can be accurate or not. A big value of error can lead to big statistical interference with the experiment while a small value of error means small statistical interference.', 'Error affects the overall presentation of the IV effect in an experiment. Smaller error equal greater IV effect (this is because t-scores are calculated by dividing IV effect/error). Nuisance error may cause within-group differences that influence the overall statistical measures of a group (such as the group mean and standard deviation). While these may increase or decrease the percieved effect (or lack of effect) of the independent variable, they are likely to be deemed insignificant in the long run, as more samples are taken out of a population and more data is gathered. Confounds, however, are a type of error that cause between group differences, and may cause researchers to commit Type I and Type II errors. This occurs when confounds amplify or diminish the IV effect in an experiment, and because statistics alone is unable to detect the presence of a confound, researchers may mistake this as their hypothesis being proven/disproven.', 'Error which is also known as chance shows the statistical significance.', \"Error is used to determine causality in an experiment when the IV Effect may not have had a strong influence on the data. Error is any part of the results obtained that isn't directly caused by the IV. More specifically, when looking at the different t-test perspectives, we often fail to reject the null hypothesis (H0), meaning that the IV effect is just error. Larger error can be a result of a small sample size with a wide range in data. Also, we find error in our extraneous variables, which are additional variables in the experiment. This includes random error, aka nuisance variables and confounds. Nuisance variables are ok to become error as long as they have a non-systematic influence and even out in the long run. Confounds are hidden from stats and math. They have a systematic influence, causing between-group variability as well as ruin causality for the t-test, making this a bad type of error for stats. When making statistical inferences, it's important that you consider all these factors before making decisions such as rejecting the null hypothesis and accepting the researcher's perspective or vice versa. If you don't fully evaluate it, then you might get Type I and/or Type II errors.\", 'Error throws off the accuracy of your study.', 'When it comes to statistical inference, error is inevitable. The larger your sample is, the smaller your error becomes.', 'Error is used in statistical inference in order to draw a more accurate conclusion about what is being inferred. When error is likely, then the researcher can better infer if error caused the results of the statistics.', 'Error causes an interference with the experiment due to the deviations from the mean. The error would then cause the T-value to either be statistically significant or not. Causing us to either reject or accept the null hypothesis based on the experiment even with error.', 'Error is the way in which statistics are interfered with. This is because the error is a form of statistical interference as error interferes with the accuracy of statistics.']\n",
      "Question 2 ['SE of Mean tells you how far the sample mean is from the main mean (population). SE of Difference is the difference between the two SE of Mean.', 'SE of Mean: this term explains how far off a sample of a population is from the sample mean. This will help us decide how accurate the data represents a population. SE of Difference: The standard error of the differences of the mean tells us that the standard error of the mean is smaller than the SE of Different and it shows uncertainty.', 'The SE of the Mean is found by dividing standard deviation by the square root of n. The SE of the Mean is to find the error between the SD and the number of samples. The SE of Difference is the difference of within groups. SE of Difference is found by adding SEM1 and SEM2, and squaring both of the SDs.', 'Standard Error of the Mean shows how much the means of two different samples differ from each other. The Standard of error of the difference kind of does the same but instead your using the sqaure root of the SD/n and adding them for both samples.', 'Standard Error of the mean is the error of the mean of a set of data, while SE of Difference calculates the difference between means.', 'The Standard Error of the Mean, is the standard error of an individual mean of a sample. While the Standard Error of the Difference is in reference to the standard error of two samples.', 'Standard Error of the Mean is the ratio between a samples standard deviation and the square root of the sample size. The standard error of the difference is SD1 squared over the sample size added to SD2 squared over the sample size and all of the square rooted.', 'SE of Mean describes the variability within a data set. SE of Difference represents how far values are from the mean of the data set.', 'SEM: Identifies the amount of average error in a set of data. SED: Measures the difference of error between 2 or more sets of data.', \"SE of the mean is the difference between the mean of the control group and the mean of the experimental group. I don't know what SE of difference is.\", 'Standard error of the means refers to the error found between groups, Ex, Type A and Type B groups of data, while Standard Error of Difference refers to within group error.', \"SE of Mean refers to a process that takes the means of multiple samples, calculates a mean of means from that data, and determines standard error by comparing each individual mean to the mean of means. SE of Difference refers to a process that takes the difference between the means of two different samples (the IV Effect) and....? (Don't know how to explain this one).\", 'SEM is the iv effect divided by the SD sqaured over the square root of n.', \"Standard Error of Mean is a measure of the variability between samples means, which tells us that sample means will vary, whether the sample mean is lower or higher than the true mean. Simply, the SE of Mean is used to measure the accuracy of a sample mean in comparison to the true mean. To find the SE of Mean, you take the SD of the experiment group and divide it by the data's sample size. The Standard Error of the Differences between means (SDODBM) is a measure of the IV effect, specifically if it is real or not. We have the Researcher's Hypothesis and the Null Hypothesis, which are used after completing the t-test. Once the t-test is complete, you evaluate obtained t on the SDODBM scale/graph, and determine if you reject or fail to reject (accept) the null hypothesis. As I already mentioned, we use the SE of Difference in order to determine if the IV effect is real or not.\", 'The SE of Mean is how far off your results are from the mean. The SE of Difference is the difference between your data.', 'SE of Mean compares the standard error of a mean within its own sample. SE of Difference compares means with different samples; compares the difference of each sample.', 'The Standard Error of the Mean is the likely error associated with the mean of the data. The Standard Error of the Difference is the likely error associated with the difference between two separate means in sets of data.', \"SE of Mean is the difference between a large sample of means based on one sample mean. (Level 2). SE of Difference - To be quite honest I'm not sure of the definitions.\", \"SE of the Mean: the differences between the means, is used to determine the difference of means and if there is error between the means (ex. if there was a really big difference between the two when there shouldn't be). SE of Difference: the standard error that occurs when comparing the differences between two values, accounts for error in values and data.\"]\n",
      "Question 3 ['IV effect is the difference between the sample means. It indicates the error within the samples relative to the population mean.', 'IV Effect: The effect that the independent variable has on our experiment. The higher the effect of the IV, the lower chance of error which is what we are looking for when using statistical inference.', 'IV effect shows the difference between groups. IV effect is also part of finding t test. To find the IV effect it is M1-M2. It plays a role in statistical inference because it shows the difference in the two means of our experiment.', 'The IV Effect is the difference between two means. M1-M2. The IV effect shows the difference BETWEEN groups.', 'The IV Effect is the signifigance that the independent variable has in a set of data, and it shows how data may be changed when an independent variable is applied.', 'The IV Effect is what effect the independent variable had on the results of research. The role that this plays on statistical inference is that, if the IV Effect is present and affected the outcome of what is being observed, the statistical inference would be that there was an IV Effect and that there is statistical significance.', 'The IV effect is when you subtract the means from 2 samples. It shows the difference between the average of each sample.', 'The IV effect is used to represent relationships between data and the causality between them. It allows for predictions and inference by providing an accurate representation of the relationship between data sets.', 'IV Effect is the difference between both Means. Can be used to find the t-value in data.', 'The IV effect is the difference in means. It tells us if the IV caused a change in DV.', 'The IV effect is a measure of the difference between two groups of data. If there is a big IV effect then there is a big difference between the groups means, which could lead to statistical interference.', 'The IV Effect is the percieved difference between the control group and the experimental group, caused by the presence of (or lack of) an independent variable. The independent variable is a variable that researchers manipulate in an experiment to see whether it is causing a certain condition. In statistical inference, if the percieved IV effect is deemed statistically significant, meaning it falls within the 5% of results that are unlikely to occur by chance, researchers will reject the null hypothesis, which means that their hypothesis (that the IV effect caused a difference) may be correct. On the other hand, it the percieved IV effect is not statistically significant, researchers must fail to reject the null hypothesis, which means they acknowlege that the results of their experiment were likely to occur by chance alone. Greater IV effects are more likely to be statistically significant; therefore the larger the IV Effect (if error remains small as well), the more likely researchers are to reject the null hypothesis.', 'The iv effect is the difference between the two means.', \"The IV effect is simply the difference between two sample's means. It determines between-group variability. The IV effect is one of the two factors which play a role in determining the variance within a sample. IV effect is used to find the obtained t value, and is used when making the final decision to reject or accept the null hypothesis. If an IV Effect is small, that means the data is more accurate, because you want the IV Effect to be as close to 0 as possible. When selecting a hypothesis, it can be said that the IV Effect is real if we reject the null, and if we fail to reject it, it can be said that the IV Effect was just error. Thus, the effect size can tell us how important the IV Effect is in an experiment.\", 'The IV effect helps to decide to accept or reject the null hypothesis.', 'When it comes to statistical inference, the IV Effect shows how far a sample is from representing its population.', 'The IV effect is the difference between means of the group that had the IV applied to it and the group that did not. Any significant difference between the two groups is likely to be caused by the IV and is therefore the IV effect. In statistical inference, the IV effect can fall in different zones which represent the likelihood of the effect being due to chance/error or being real.', \"The IV effect is the different between the experimental group and the control group. The Iv effect plays a role in statistical inference because it shows how much variation occurs between groups. With this variation value we then calculate the T-value and it then allows us to make an inference on whether or not it is statistically significant. To be honest I was gonna study after this so if my answers are way off that's why.\", 'The IV effect is the independent variable effect or the way that the independent variable effects the data. For example, a dependent variable is likely not going to cause any major effects but the job of the independent variable is to be measured and determine its effects on the dependent variables. The IV Effect plays a role in statistical interference because it is a way that statistics become inferred with since the IV effect influences outcomes and data.']\n"
     ]
    }
   ],
   "source": [
    "# importing in data from personal computer path. Will need to change the path to the location of the data on your computer.\n",
    "Stats_data = load_data(r\"C:\\Users\\isaia\\OneDrive\\Desktop\\Academic work\\Scholarly activities\\Research voluntering\\Research voluntering 2024 Dr. Sanocki\\Stats & LLM\\Topic-modeling\\Stats_T.M_LDA\\Data\\Json Format\\Sanocki_Stats_Data.json\")\n",
    "\n",
    "# printing aspects of the dictionary using a for loop.\n",
    "for key in list(Stats_data.keys())[:4]: # printing the 4 keys in the dictionary with all content nested within them. \n",
    "   print(key, Stats_data[key])\n",
    "\n",
    "    "
   ]
  },
  {
   "cell_type": "code",
   "execution_count": 3,
   "metadata": {},
   "outputs": [
    {
     "name": "stdout",
     "output_type": "stream",
     "text": [
      "dict_keys(['ID_code', 'Question 1', 'Question 2', 'Question 3'])\n"
     ]
    }
   ],
   "source": [
    "print(Stats_data.keys()) # present keys in the dictionary.\n",
    "\n",
    "# Assigning the keys to usable varinables within the environment.\n",
    "ID_code = Stats_data[\"ID_code\"] \n",
    "Question_1 = Stats_data[\"Question 1\"] # This script will be used to clean the data in the question 1 column."
   ]
  },
  {
   "cell_type": "code",
   "execution_count": 4,
   "metadata": {},
   "outputs": [
    {
     "name": "stdout",
     "output_type": "stream",
     "text": [
      "O.A\n",
      "Error helps determine the strength of the experiment and the power to reject the null hypothesis.\n",
      "\n",
      "Total number of participants in ID code: 19\n",
      "Total number of responses for question 1: 19\n"
     ]
    }
   ],
   "source": [
    "# Checking the newly created variables & there length\n",
    "print(ID_code[0]) # python is 0 indexed so the first element in the list is indexed at 0.\n",
    "print(Question_1[0])\n",
    "print()\n",
    "print(\"Total number of participants in ID code:\", len(ID_code))\n",
    "print(\"Total number of responses for question 1:\", len(Question_1))\n"
   ]
  },
  {
   "cell_type": "markdown",
   "metadata": {},
   "source": [
    "Functions derived from citation below. Some alterations needed due either updates or certain depreciations of libraries.\n",
    "- Mattingly, William. Introduction to Topic Modeling and Text Classification, 2021. topic-modeling.pythonhumanities.com.\n",
    "\n",
    "Stopwords consist of words common across all texts. The official list from NLTK library:\n",
    "\n",
    "- ['i', 'me', 'my', 'myself', 'we', 'our', 'ours', 'ourselves', 'you', \"you're\", \"you've\", \"you'll\", \"you'd\", 'your', 'yours', 'yourself', 'yourselves', 'he', 'him', 'his', 'himself', 'she', \"she's\", 'her', 'hers', 'herself', 'it', \"it's\", 'its', 'itself', 'they', 'them', 'their', 'theirs', 'themselves', 'what', 'which', 'who', 'whom', 'this', 'that', \"that'll\", 'these', 'those', 'am', 'is', 'are', 'was', 'were', 'be', 'been', 'being', 'have', 'has', 'had', 'having', 'do', 'does', 'did', 'doing', 'a', 'an', 'the', 'and', 'but', 'if', 'or', 'because', 'as', 'until', 'while', 'of', 'at', 'by', 'for', 'with', 'about', 'against', 'between', 'into', 'through', 'during', 'before', 'after', 'above', 'below', 'to', 'from', 'up', 'down', 'in', 'out', 'on', 'off', 'over', 'under', 'again', 'further', 'then', 'once', 'here', 'there', 'when', 'where', 'why', 'how', 'all', 'any', 'both', 'each', 'few', 'more', 'most', 'other', 'some', 'such', 'no', 'nor', 'not', 'only', 'own', 'same', 'so', 'than', 'too', 'very', 's', 't', 'can', 'will', 'just', 'don', \"don't\", 'should', \"should've\", 'now', 'd', 'll', 'm', 'o', 're', 've', 'y', 'ain', 'aren', \"aren't\", 'couldn', \"couldn't\", 'didn', \"didn't\", 'doesn', \"doesn't\", 'hadn', \"hadn't\", 'hasn', \"hasn't\", 'haven', \"haven't\", 'isn', \"isn't\", 'ma', 'mightn', \"mightn't\", 'mustn', \"mustn't\", 'needn', \"needn't\", 'shan', \"shan't\", 'shouldn', \"shouldn't\", 'wasn', \"wasn't\", 'weren', \"weren't\", 'won', \"won't\", 'wouldn', \"wouldn't\"]"
   ]
  },
  {
   "cell_type": "code",
   "execution_count": null,
   "metadata": {},
   "outputs": [],
   "source": [
    "import string \n",
    "from nltk.corpus import stopwords # for this you may have to use pip in the terminal to install nltk: pip install nltk \n",
    "\n",
    "# Extend the stopwords list to include words unique to your data\n",
    "custom_stopwords = [\"also\", \"occur\", \"lets\", \"us\", \"likely\", \"would\", \"make\", \"may\", \"know\", \"aka\", \"ok\", \"versa\", \"vice\", \"well\", \"way\"]\n",
    "stops = stopwords.words(\"english\") + custom_stopwords  # Combine NLTK stopwords with custom stopwords\n",
    "\n",
    "\n",
    "# Functions focused on filtering the original response data to question 1.\n",
    "def clean_docs(docs):\n",
    "    stops = stopwords.words(\"english\")# retrieve the list of stopwords.\n",
    "\n",
    "    final = [] #empty the new list to store the cleaned docs\n",
    "\n",
    "    # an assigned for loop dedicated to clean all question response data to create single sentences with no stopwords and puncuations. \n",
    "    for doc in docs:\n",
    "        clean_doc = remove_stop_punc(doc, stops)\n",
    "        final.append(clean_doc)\n",
    "\n",
    "    return(final)    \n",
    "\n",
    "\n",
    "def remove_stop_punc(text, stops):\n",
    "    # removes all stop words.\n",
    "    words = text.split()\n",
    "    final = []\n",
    "    for word in words:\n",
    "        if word.lower() not in stops:\n",
    "            final.append(word) \n",
    "\n",
    "# reassemble the text without the stopwords\n",
    "    final = \" \".join(final)\n",
    "\n",
    "# removes all numeric values\n",
    "    final = \"\".join([i for i in final if not i.isdigit()])\n",
    "\n",
    "# removes slashs and replaces with a space.\n",
    "    final = final.replace(\"/\", \" \")\n",
    "#\n",
    "    final = final.replace(\"-\", \" \") \n",
    "\n",
    "# removes all punctuation including parathesis.\n",
    "    final = final.translate(str.maketrans(\"\", \"\", string.punctuation + \"()\"))\n",
    "\n",
    "# Removes any potential double white spaces\n",
    "    while \"  \" in final:\n",
    "        final = final.replace(\"  \", \" \")\n",
    "    return (final)\n",
    "\n",
    "\n"
   ]
  },
  {
   "cell_type": "code",
   "execution_count": null,
   "metadata": {},
   "outputs": [
    {
     "name": "stdout",
     "output_type": "stream",
     "text": [
      "Original Q1 data:\n",
      "Error helps determine the strength of the experiment and the power to reject the null hypothesis.\n",
      "\n",
      "Cleaned Q1 data:\n",
      "Error helps determine strength experiment power reject null hypothesis\n",
      "\n"
     ]
    }
   ],
   "source": [
    "# using function \"clean_docs()\" to clean the text data in each associated questions\n",
    "cleaned_Question_1 = clean_docs(Question_1)\n",
    "\n",
    "# Since Question_1 is a list of text responses, you need to apply remove_stop_punc() to each document separately using a loop or a list comprehension.\n",
    "cleaned_Question_1 = [remove_stop_punc(doc, stops) for doc in cleaned_Question_1] \n",
    "\n",
    "# Printing the changes so that we can visually see what has chnaged.\n",
    "print(\"Original Q1 data:\")\n",
    "print(Question_1[11] + \"\\n\")\n",
    "\n",
    "print(\"Cleaned Q1 data:\")\n",
    "print(cleaned_Question_1[11] + \"\\n\")\n"
   ]
  },
  {
   "cell_type": "markdown",
   "metadata": {},
   "source": [
    "Term Frequency-Inverse Document Frequency (TF-IDF) is an algorithm for determining the relevancy of words in a given document. Premade libraries such as sklearn come with predefined functions that can be adapted and adjusted. In addition, KMeans is another import piece for TF-IDF and supports T.M as a whole. It allows for the clustering of key words in each text sentence.\n"
   ]
  },
  {
   "cell_type": "code",
   "execution_count": 7,
   "metadata": {},
   "outputs": [
    {
     "name": "stdout",
     "output_type": "stream",
     "text": [
      "  (0, 76)\t0.38908572324079693\n",
      "  (0, 41)\t0.29599545653887815\n",
      "  (0, 166)\t0.4435400384435508\n",
      "  (0, 61)\t0.25735950503971317\n",
      "  (0, 132)\t0.4435400384435508\n",
      "  (0, 142)\t0.350449771741632\n",
      "  (0, 117)\t0.3204813995297268\n",
      "  (0, 79)\t0.2752928867241828\n"
     ]
    }
   ],
   "source": [
    "\n",
    "from sklearn.feature_extraction.text import TfidfVectorizer\n",
    "from sklearn.cluster import KMeans\n",
    "\n",
    "# TfidVectorizer is derived from sklearn and comes with adjustable parameters. We do this to then later pass our cleaned data through a function with the parameters.\n",
    "vectorizer = TfidfVectorizer( \n",
    "                                lowercase = True,      # tells the function to lowercase our data.\n",
    "                                max_features = 300,    # how many words we wish to account for. \n",
    "                                max_df = .80,          # a percentage that tells the fucntion to words that occur 75% of the time in the text.\n",
    "                                min_df = 1,            # integer set low to accommdate the small dataset being used. Traditionally will be used to ignore words that do not occur more than n amount of times in a body of text.\n",
    "                                ngram_range = (1,1),  # has to do with bigrams & trigrams. Futher disucssion covered in citation of functions.\n",
    ")\n",
    "\n",
    "# passing the original data through the adjusted function\n",
    "vectors_Q1 = vectorizer.fit_transform(cleaned_Question_1)\n",
    "# The following output is a sparse matrix representation. Each Tuple is representative a words index and TF-IDF score.\n",
    "print(vectors_Q1[0:1])\n"
   ]
  },
  {
   "cell_type": "code",
   "execution_count": 8,
   "metadata": {},
   "outputs": [
    {
     "name": "stdout",
     "output_type": "stream",
     "text": [
      "Word: helps ->TF-IDF Score: {0.38908572324079693}\n",
      "Word: determine ->TF-IDF Score: {0.29599545653887815}\n",
      "Word: strength ->TF-IDF Score: {0.4435400384435508}\n",
      "Word: experiment ->TF-IDF Score: {0.25735950503971317}\n",
      "Word: power ->TF-IDF Score: {0.4435400384435508}\n",
      "Word: reject ->TF-IDF Score: {0.350449771741632}\n",
      "Word: null ->TF-IDF Score: {0.3204813995297268}\n",
      "Word: hypothesis ->TF-IDF Score: {0.2752928867241828}\n"
     ]
    }
   ],
   "source": [
    "feature_names = vectorizer.get_feature_names_out() # this is sightly different from the public script.\n",
    "# I wanted to view each word and its associated TF-IDF score.\n",
    "sparse_vector_scores = vectors_Q1[0] \n",
    "\n",
    "for index, score in zip(sparse_vector_scores.indices, sparse_vector_scores.data):\n",
    "    print(\"Word:\", feature_names[index], \"->TF-IDF Score:\", {score})\n"
   ]
  },
  {
   "cell_type": "code",
   "execution_count": 9,
   "metadata": {},
   "outputs": [
    {
     "name": "stdout",
     "output_type": "stream",
     "text": [
      "[[0.         0.         0.         0.         0.         0.\n",
      "  0.         0.         0.         0.         0.         0.\n",
      "  0.         0.         0.         0.         0.         0.\n",
      "  0.         0.         0.         0.         0.         0.\n",
      "  0.         0.         0.         0.         0.         0.\n",
      "  0.         0.         0.         0.         0.         0.\n",
      "  0.         0.         0.         0.         0.         0.29599546\n",
      "  0.         0.         0.         0.         0.         0.\n",
      "  0.         0.         0.         0.         0.         0.\n",
      "  0.         0.         0.         0.         0.         0.\n",
      "  0.         0.25735951 0.         0.         0.         0.\n",
      "  0.         0.         0.         0.         0.         0.\n",
      "  0.         0.         0.         0.         0.38908572 0.\n",
      "  0.         0.27529289 0.         0.         0.         0.\n",
      "  0.         0.         0.         0.         0.         0.\n",
      "  0.         0.         0.         0.         0.         0.\n",
      "  0.         0.         0.         0.         0.         0.\n",
      "  0.         0.         0.         0.         0.         0.\n",
      "  0.         0.         0.         0.         0.         0.\n",
      "  0.         0.         0.         0.3204814  0.         0.\n",
      "  0.         0.         0.         0.         0.         0.\n",
      "  0.         0.         0.         0.         0.         0.\n",
      "  0.44354004 0.         0.         0.         0.         0.\n",
      "  0.         0.         0.         0.         0.35044977 0.\n",
      "  0.         0.         0.         0.         0.         0.\n",
      "  0.         0.         0.         0.         0.         0.\n",
      "  0.         0.         0.         0.         0.         0.\n",
      "  0.         0.         0.         0.         0.44354004 0.\n",
      "  0.         0.         0.         0.         0.         0.\n",
      "  0.         0.         0.         0.         0.         0.\n",
      "  0.         0.         0.         0.         0.         0.\n",
      "  0.         0.        ]]\n"
     ]
    }
   ],
   "source": [
    "# Keywords that have a TF-IDF score \n",
    "dense = vectors_Q1.todense()\n",
    "print(dense[0])"
   ]
  },
  {
   "cell_type": "code",
   "execution_count": 10,
   "metadata": {},
   "outputs": [
    {
     "name": "stdout",
     "output_type": "stream",
     "text": [
      "[0.0, 0.0, 0.0, 0.0, 0.0, 0.0, 0.0, 0.0, 0.0, 0.0, 0.0, 0.0, 0.0, 0.0, 0.0, 0.0, 0.0, 0.0, 0.0, 0.0, 0.0, 0.0, 0.0, 0.0, 0.0, 0.0, 0.0, 0.0, 0.0, 0.0, 0.0, 0.0, 0.0, 0.0, 0.0, 0.0, 0.0, 0.0, 0.0, 0.0, 0.0, 0.29599545653887815, 0.0, 0.0, 0.0, 0.0, 0.0, 0.0, 0.0, 0.0, 0.0, 0.0, 0.0, 0.0, 0.0, 0.0, 0.0, 0.0, 0.0, 0.0, 0.0, 0.25735950503971317, 0.0, 0.0, 0.0, 0.0, 0.0, 0.0, 0.0, 0.0, 0.0, 0.0, 0.0, 0.0, 0.0, 0.0, 0.38908572324079693, 0.0, 0.0, 0.2752928867241828, 0.0, 0.0, 0.0, 0.0, 0.0, 0.0, 0.0, 0.0, 0.0, 0.0, 0.0, 0.0, 0.0, 0.0, 0.0, 0.0, 0.0, 0.0, 0.0, 0.0, 0.0, 0.0, 0.0, 0.0, 0.0, 0.0, 0.0, 0.0, 0.0, 0.0, 0.0, 0.0, 0.0, 0.0, 0.0, 0.0, 0.0, 0.3204813995297268, 0.0, 0.0, 0.0, 0.0, 0.0, 0.0, 0.0, 0.0, 0.0, 0.0, 0.0, 0.0, 0.0, 0.0, 0.4435400384435508, 0.0, 0.0, 0.0, 0.0, 0.0, 0.0, 0.0, 0.0, 0.0, 0.350449771741632, 0.0, 0.0, 0.0, 0.0, 0.0, 0.0, 0.0, 0.0, 0.0, 0.0, 0.0, 0.0, 0.0, 0.0, 0.0, 0.0, 0.0, 0.0, 0.0, 0.0, 0.0, 0.0, 0.0, 0.4435400384435508, 0.0, 0.0, 0.0, 0.0, 0.0, 0.0, 0.0, 0.0, 0.0, 0.0, 0.0, 0.0, 0.0, 0.0, 0.0, 0.0, 0.0, 0.0, 0.0, 0.0, 0.0]\n"
     ]
    }
   ],
   "source": [
    "# simple function to convert the dataset above into a list.\n",
    "dense_list = dense.tolist()\n",
    "print(dense_list[0])"
   ]
  },
  {
   "cell_type": "code",
   "execution_count": 11,
   "metadata": {},
   "outputs": [
    {
     "name": "stdout",
     "output_type": "stream",
     "text": [
      "Original Text:\n",
      "Error helps determine the strength of the experiment and the power to reject the null hypothesis.\n",
      "\n",
      "Cleaned Text:\n",
      "Error helps determine strength experiment power reject null hypothesis\n",
      "\n",
      "Only Keywords Text:\n",
      "['determine', 'experiment', 'helps', 'hypothesis', 'null', 'power', 'reject', 'strength']\n"
     ]
    }
   ],
   "source": [
    "# Creates an empty list\n",
    "all_keywords = []\n",
    "\n",
    "for description in dense_list:   # for loop to represent keywords TF-IDF scores in dense_list.\n",
    "    x = 0 \n",
    "    keywords = []                   # temp list to store keywords\n",
    "    for word in description:        # for loop to exam each keyword with a associated score.\n",
    "        if word > .05:              # will only consider words with TF-IDF score above 0.05\n",
    "            keywords.append(feature_names[x]) # .append will allow key words above 0.05 to be added to the temp list.\n",
    "        x += 1                      # used to go step-by-step for each word.\n",
    "    all_keywords.append(keywords)\n",
    "\n",
    "\n",
    "\n",
    "# Full comparison of orginal through processed, and keywords\n",
    "print(\"Original Text:\")\n",
    "print(Question_1[0]+\"\\n\")\n",
    "\n",
    "print(\"Cleaned Text:\")\n",
    "print(cleaned_Question_1[0]+\"\\n\")\n",
    "\n",
    "print(\"Only Keywords Text:\")\n",
    "print(all_keywords[0])\n",
    "\n",
    "\n"
   ]
  },
  {
   "cell_type": "markdown",
   "metadata": {},
   "source": [
    "Centroids are an importent aspect of K-Means clustering. They function as origin points to assist in the clustering of similar data. "
   ]
  },
  {
   "cell_type": "code",
   "execution_count": 12,
   "metadata": {},
   "outputs": [
    {
     "name": "stdout",
     "output_type": "stream",
     "text": [
      "Top words for each cluster\n",
      "Cluster 1: statistical, inference, study, data, chance\n",
      "Cluster 2: experiment, hypothesis, type, null, determine\n"
     ]
    }
   ],
   "source": [
    "# Adjusts the number of clusters based on dataset size\n",
    "true_k = min(2, len(vectors_Q1.toarray()) // 2)  # Prevents over-segmentation\n",
    "\n",
    "# K-Means model with adjusted parameters for small datasets\n",
    "model = KMeans(\n",
    "    n_clusters=true_k,         \n",
    "    init=\"k-means++\",   # Smart centroid initialization for better clustering\n",
    "    max_iter=50,        # Reduced iterations for faster convergence\n",
    "    n_init=20,          # Runs multiple times to improve stability\n",
    "    random_state=1      # If random state is null, KMEans places centriods in slightly different postions each interation.\n",
    ")\n",
    "\n",
    "model.fit(vectors_Q1)  # Fits the K-Means model to the vectorized text data\n",
    "\n",
    "# Order words by importance in each cluster\n",
    "order_centroids = model.cluster_centers_.argsort()[:, ::-1]  \n",
    "\n",
    "# Retrieve words from each vector\n",
    "terms = vectorizer.get_feature_names_out()\n",
    "\n",
    "print(\"Top words for each cluster\")\n",
    "for i in range(true_k):\n",
    "    top_words = [terms[ind] for ind in order_centroids[i, :5]]  # Reduce to 5 words per cluster\n",
    "    print(f\"Cluster {i + 1}: {', '.join(top_words)}\")\n",
    "\n",
    "   \n"
   ]
  },
  {
   "cell_type": "code",
   "execution_count": 13,
   "metadata": {},
   "outputs": [
    {
     "name": "stdout",
     "output_type": "stream",
     "text": [
      "Cluster 0\n",
      "statistical\n",
      "inference\n",
      "study\n",
      "data\n",
      "chance\n",
      "\n",
      "Cluster 1\n",
      "experiment\n",
      "hypothesis\n",
      "type\n",
      "null\n",
      "determine\n",
      "\n"
     ]
    }
   ],
   "source": [
    "#tracks the cluster #\n",
    "i = 0 \n",
    "\n",
    "# for loop to go through each clusters ordered word ranking.\n",
    "for clusters in order_centroids:\n",
    "    print(f\"Cluster {i}\")\n",
    "    for keyword in clusters[0:5]:  #prints the 5 keywords most salient in the dataset.\n",
    "        print(terms[keyword])\n",
    "    print(\"\")\n",
    "    i = i + 1"
   ]
  },
  {
   "cell_type": "code",
   "execution_count": 14,
   "metadata": {},
   "outputs": [
    {
     "data": {
      "image/png": "[encoded data removed]",
      "text/plain": [
       "<Figure size 1000x1000 with 1 Axes>"
      ]
     },
     "metadata": {},
     "output_type": "display_data"
    },
    {
     "name": "stdout",
     "output_type": "stream",
     "text": [
      "ID: O.A| Keywords: determine, experiment, helps, hypothesis, null, power, reject, strength\n",
      "ID: I.A| Keywords: chance, determine, helps, hypothesis, independent, inference, meaning, null, one, plays, result, results, role, statistical, two, type, variable\n",
      "ID: J.B| Keywords: always, aspects, data, differences, differs, group, inference, involved, many, part, plays, role, showing, shows, statistical, stats, within\n",
      "ID: P.C| Keywords: chance, describes, difference, due, groups, purely, results, study, within\n",
      "ID: K.C| Keywords: allows, gain, knowledge, population, significance, statistical\n",
      "ID: A.C| Keywords: accurate, change, data, fix, inference, influenced, plays, present, presented, role, statistical\n",
      "ID: A.G| Keywords: chance, decreased, larger, occurring, sample, size, smaller\n",
      "ID: A.K| Keywords: accurate, allows, based, consistent, data, determine, experiment, inferences, people, predictions, study\n",
      "ID: K.K| Keywords: chance, experiment, help, measure, random\n",
      "ID: E.L| Keywords: inferences, statistical, weakens\n",
      "ID: C.MD| Keywords: accurate, big, chance, determine, discovering, experiment, help, hypothesis, interference, known, lead, means, researchers, small, statistical, value, whether\n",
      "ID: S.M| Keywords: affects, alone, amplify, calculated, cause, commit, confound, confounds, data, decrease, deemed, detect, deviation, differences, diminish, dividing, effect, effecterror, equal, errors, experiment, gathered, greater, group, however, hypothesis, ii, increase, independent, influence, insignificant, iv, lack, long, mean, measures, mistake, nuisance, occurs, overall, percieved, population, presence, presentation, provendisproven, researchers, run, samples, smaller, standard, statistics, taken, tscores, type, unable, variable, withingroup\n",
      "ID: O.P| Keywords: chance, known, shows, significance, statistical\n",
      "ID: T.P| Keywords: accepting, additional, andor, bad, become, betweengroup, causality, caused, causing, confounds, consider, data, decisions, determine, different, directly, effect, errors, evaluate, even, experiment, extraneous, factors, fail, find, fully, get, hidden, hypothesis, ii, important, includes, inferences, influence, iv, larger, long, looking, making, math, meaning, might, nonsystematic, nuisance, null, obtained, often, part, perspective, perspectives, random, range, reject, rejecting, researchers, result, results, ruin, run, sample, size, small, specifically, stats, strong, systematic, ttest, type, used, variability, variables, wide\n",
      "ID: A.Q| Keywords: accuracy, study, throws\n",
      "ID: A.R| Keywords: becomes, comes, inevitable, inference, larger, sample, smaller, statistical\n",
      "ID: E.R| Keywords: accurate, better, caused, conclusion, draw, infer, inference, inferred, order, researcher, results, statistical, statistics, used\n",
      "ID: G.T| Keywords: accept, based, cause, causes, causing, deviations, due, either, even, experiment, hypothesis, interference, mean, null, reject, significant, statistically, tvalue\n",
      "ID: S.T| Keywords: accuracy, form, interfered, interference, interferes, statistical, statistics\n"
     ]
    }
   ],
   "source": [
    "\n",
    "import matplotlib.pyplot as plt\n",
    "from sklearn.decomposition import PCA\n",
    "import numpy as np\n",
    "\n",
    "# Get cluster assignments\n",
    "kmean_indices = model.predict(vectors_Q1)\n",
    "\n",
    "# Ensure PCA components don't exceed dataset size\n",
    "num_components = min(2, len(vectors_Q1.toarray()))  \n",
    "pca = PCA(n_components=num_components)\n",
    "scatter_plot_points = pca.fit_transform(vectors_Q1.toarray())\n",
    "\n",
    "# colors for clusters\n",
    "colors = [\"red\", \"blue\", \"green\"]\n",
    "\n",
    "# Ensure there are enough colors for all clusters\n",
    "num_clusters = len(set(kmean_indices))  # Get the number of unique clusters\n",
    "cluster_colors = colors[:num_clusters]  # Use only as many colors as needed\n",
    "\n",
    "\n",
    "# Extract x and y coordinates\n",
    "x_axis = scatter_plot_points[:, 0]\n",
    "y_axis = scatter_plot_points[:, 1]\n",
    "\n",
    "\n",
    "# Create figure and scatter plot\n",
    "fig, ax = plt.subplots(figsize=(10, 10))\n",
    "scatter = ax.scatter(x_axis, \n",
    "                     y_axis, \n",
    "                     c=[colors[d] for d in kmean_indices]\n",
    "                     )\n",
    "\n",
    "for i, txt in enumerate(ID_code):\n",
    "    ax.annotate(txt[0:11], \n",
    "                (x_axis[i], \n",
    "                 y_axis[i]), \n",
    "                textcoords=\"offset points\", \n",
    "                xytext=(5,5), \n",
    "                fontsize = 10)\n",
    "\n",
    "# Legend \n",
    "handles = [plt.Line2D([0],[0],\n",
    "                        marker = \"o\",\n",
    "                        color = \"w\",\n",
    "                        markerfacecolor = colors[i],\n",
    "                        markersize = 8) for i in range(num_clusters)\n",
    "            ]\n",
    "\n",
    "ax.legend(handles, \n",
    "          [f\"Cluster {i}\" for i in range(num_clusters)], \n",
    "          title = \"Clusters\")\n",
    "\n",
    "# Show Plot\n",
    "plt.show()\n",
    "\n",
    "for id_code, keywords in zip(ID_code, all_keywords):\n",
    "    print(f\"ID: {id_code}| Keywords: {', '.join(keywords)}\")\n"
   ]
  }
 ],
 "metadata": {
  "kernelspec": {
   "display_name": "Python 3",
   "language": "python",
   "name": "python3"
  },
  "language_info": {
   "codemirror_mode": {
    "name": "ipython",
    "version": 3
   },
   "file_extension": ".py",
   "mimetype": "text/x-python",
   "name": "python",
   "nbconvert_exporter": "python",
   "pygments_lexer": "ipython3",
   "version": "3.12.6"
  }
 },
 "nbformat": 4,
 "nbformat_minor": 2
}
