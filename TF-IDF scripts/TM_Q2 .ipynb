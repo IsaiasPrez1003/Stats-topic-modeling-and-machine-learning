{
 "cells": [
  {
   "cell_type": "markdown",
   "metadata": {},
   "source": [
    "# Topic Modeling with responses to stat based questions.\n",
    "Question 2: Define and explain the two standard errors: SE of MEans and SE of Difference."
   ]
  },
  {
   "cell_type": "markdown",
   "metadata": {},
   "source": [
    "# Importing the necessary packages\n",
    "### Use chunk below in terminal to install Scikit learn\n",
    "python -m venv sklearn-env\n",
    "sklearn-env\\Scripts\\activate  # activate\n",
    "pip install -U scikit-learn\n",
    "\n",
    "### Use chunk below to verify the installation\n",
    "python -m pip show scikit-learn  \n",
    "python -m pip freeze   \n",
    "python -c \"import sklearn; sklearn.show_versions()\""
   ]
  },
  {
   "cell_type": "code",
   "execution_count": 17,
   "metadata": {},
   "outputs": [],
   "source": [
    "import json\n",
    "\n",
    "def load_data(file):\n",
    "    with open(file, \"r\", encoding = \"utf-8\") as f:\n",
    "        data = json.load(f)\n",
    "    return(data)\n",
    "\n"
   ]
  },
  {
   "cell_type": "code",
   "execution_count": 18,
   "metadata": {},
   "outputs": [
    {
     "name": "stdout",
     "output_type": "stream",
     "text": [
      "ID_code ['O.A', 'I.A', 'J.B', 'P.C', 'K.C', 'A.C', 'A.G', 'A.K', 'K.K', 'E.L', 'C.MD', 'S.M', 'O.P', 'T.P', 'A.Q', 'A.R', 'E.R', 'G.T', 'S.T']\n",
      "Question 1 ['Error helps determine the strength of the experiment and the power to reject the null hypothesis.', 'The role that error plays in statistical inference has to do with type one and type two error. Error helps us determine our null hypothesis. Meaning, did our results occur as a result of the independent variable? Or did it occur by chance, or error.', 'Error plays a role in statistical inference by showing between and within group differences. Error also shows where the data differs. In stats, error is always involved and is a part of many aspects of stats.', 'Error lets you know if the results of the study were purely due to chance. Error describes the difference WITHIN groups.', 'Error allows us to gain knowledge on a population and what has statistical significance.', \"The role that error plays in statistical inference is that an inference can be influenced by the data presented. And if there is error present in the data, the statistical inference wouldn't be accurate to the data. Fix the error, and the inference of the data would likely change.\", 'The chance of error can be decreased when the sample size is larger, when the sample size is smaller, an error has more of a chance of occurring.', 'It allows people to determine how accurate a study may be and to make inferences and predictions based on how consistent the data is in an experiment.', 'Error can help measure the random chance in an experiment.', 'It weakens statistical inferences.', 'Discovering error, also known as chance, can help to determine whether a researchers hypothesis can be accurate or not. A big value of error can lead to big statistical interference with the experiment while a small value of error means small statistical interference.', 'Error affects the overall presentation of the IV effect in an experiment. Smaller error equal greater IV effect (this is because t-scores are calculated by dividing IV effect/error). Nuisance error may cause within-group differences that influence the overall statistical measures of a group (such as the group mean and standard deviation). While these may increase or decrease the percieved effect (or lack of effect) of the independent variable, they are likely to be deemed insignificant in the long run, as more samples are taken out of a population and more data is gathered. Confounds, however, are a type of error that cause between group differences, and may cause researchers to commit Type I and Type II errors. This occurs when confounds amplify or diminish the IV effect in an experiment, and because statistics alone is unable to detect the presence of a confound, researchers may mistake this as their hypothesis being proven/disproven.', 'Error which is also known as chance shows the statistical significance.', \"Error is used to determine causality in an experiment when the IV Effect may not have had a strong influence on the data. Error is any part of the results obtained that isn't directly caused by the IV. More specifically, when looking at the different t-test perspectives, we often fail to reject the null hypothesis (H0), meaning that the IV effect is just error. Larger error can be a result of a small sample size with a wide range in data. Also, we find error in our extraneous variables, which are additional variables in the experiment. This includes random error, aka nuisance variables and confounds. Nuisance variables are ok to become error as long as they have a non-systematic influence and even out in the long run. Confounds are hidden from stats and math. They have a systematic influence, causing between-group variability as well as ruin causality for the t-test, making this a bad type of error for stats. When making statistical inferences, it's important that you consider all these factors before making decisions such as rejecting the null hypothesis and accepting the researcher's perspective or vice versa. If you don't fully evaluate it, then you might get Type I and/or Type II errors.\", 'Error throws off the accuracy of your study.', 'When it comes to statistical inference, error is inevitable. The larger your sample is, the smaller your error becomes.', 'Error is used in statistical inference in order to draw a more accurate conclusion about what is being inferred. When error is likely, then the researcher can better infer if error caused the results of the statistics.', 'Error causes an interference with the experiment due to the deviations from the mean. The error would then cause the T-value to either be statistically significant or not. Causing us to either reject or accept the null hypothesis based on the experiment even with error.', 'Error is the way in which statistics are interfered with. This is because the error is a form of statistical interference as error interferes with the accuracy of statistics.']\n",
      "Question 2 ['SE of Mean tells you how far the sample mean is from the main mean (population). SE of Difference is the difference between the two SE of Mean.', 'SE of Mean: this term explains how far off a sample of a population is from the sample mean. This will help us decide how accurate the data represents a population. SE of Difference: The standard error of the differences of the mean tells us that the standard error of the mean is smaller than the SE of Different and it shows uncertainty.', 'The SE of the Mean is found by dividing standard deviation by the square root of n. The SE of the Mean is to find the error between the SD and the number of samples. The SE of Difference is the difference of within groups. SE of Difference is found by adding SEM1 and SEM2, and squaring both of the SDs.', 'Standard Error of the Mean shows how much the means of two different samples differ from each other. The Standard of error of the difference kind of does the same but instead your using the sqaure root of the SD/n and adding them for both samples.', 'Standard Error of the mean is the error of the mean of a set of data, while SE of Difference calculates the difference between means.', 'The Standard Error of the Mean, is the standard error of an individual mean of a sample. While the Standard Error of the Difference is in reference to the standard error of two samples.', 'Standard Error of the Mean is the ratio between a samples standard deviation and the square root of the sample size. The standard error of the difference is SD1 squared over the sample size added to SD2 squared over the sample size and all of the square rooted.', 'SE of Mean describes the variability within a data set. SE of Difference represents how far values are from the mean of the data set.', 'SEM: Identifies the amount of average error in a set of data. SED: Measures the difference of error between 2 or more sets of data.', \"SE of the mean is the difference between the mean of the control group and the mean of the experimental group. I don't know what SE of difference is.\", 'Standard error of the means refers to the error found between groups, Ex, Type A and Type B groups of data, while Standard Error of Difference refers to within group error.', \"SE of Mean refers to a process that takes the means of multiple samples, calculates a mean of means from that data, and determines standard error by comparing each individual mean to the mean of means. SE of Difference refers to a process that takes the difference between the means of two different samples (the IV Effect) and....? (Don't know how to explain this one).\", 'SEM is the iv effect divided by the SD sqaured over the square root of n.', \"Standard Error of Mean is a measure of the variability between samples means, which tells us that sample means will vary, whether the sample mean is lower or higher than the true mean. Simply, the SE of Mean is used to measure the accuracy of a sample mean in comparison to the true mean. To find the SE of Mean, you take the SD of the experiment group and divide it by the data's sample size. The Standard Error of the Differences between means (SDODBM) is a measure of the IV effect, specifically if it is real or not. We have the Researcher's Hypothesis and the Null Hypothesis, which are used after completing the t-test. Once the t-test is complete, you evaluate obtained t on the SDODBM scale/graph, and determine if you reject or fail to reject (accept) the null hypothesis. As I already mentioned, we use the SE of Difference in order to determine if the IV effect is real or not.\", 'The SE of Mean is how far off your results are from the mean. The SE of Difference is the difference between your data.', 'SE of Mean compares the standard error of a mean within its own sample. SE of Difference compares means with different samples; compares the difference of each sample.', 'The Standard Error of the Mean is the likely error associated with the mean of the data. The Standard Error of the Difference is the likely error associated with the difference between two separate means in sets of data.', \"SE of Mean is the difference between a large sample of means based on one sample mean. (Level 2). SE of Difference - To be quite honest I'm not sure of the definitions.\", \"SE of the Mean: the differences between the means, is used to determine the difference of means and if there is error between the means (ex. if there was a really big difference between the two when there shouldn't be). SE of Difference: the standard error that occurs when comparing the differences between two values, accounts for error in values and data.\"]\n",
      "Question 3 ['IV effect is the difference between the sample means. It indicates the error within the samples relative to the population mean.', 'IV Effect: The effect that the independent variable has on our experiment. The higher the effect of the IV, the lower chance of error which is what we are looking for when using statistical inference.', 'IV effect shows the difference between groups. IV effect is also part of finding t test. To find the IV effect it is M1-M2. It plays a role in statistical inference because it shows the difference in the two means of our experiment.', 'The IV Effect is the difference between two means. M1-M2. The IV effect shows the difference BETWEEN groups.', 'The IV Effect is the signifigance that the independent variable has in a set of data, and it shows how data may be changed when an independent variable is applied.', 'The IV Effect is what effect the independent variable had on the results of research. The role that this plays on statistical inference is that, if the IV Effect is present and affected the outcome of what is being observed, the statistical inference would be that there was an IV Effect and that there is statistical significance.', 'The IV effect is when you subtract the means from 2 samples. It shows the difference between the average of each sample.', 'The IV effect is used to represent relationships between data and the causality between them. It allows for predictions and inference by providing an accurate representation of the relationship between data sets.', 'IV Effect is the difference between both Means. Can be used to find the t-value in data.', 'The IV effect is the difference in means. It tells us if the IV caused a change in DV.', 'The IV effect is a measure of the difference between two groups of data. If there is a big IV effect then there is a big difference between the groups means, which could lead to statistical interference.', 'The IV Effect is the percieved difference between the control group and the experimental group, caused by the presence of (or lack of) an independent variable. The independent variable is a variable that researchers manipulate in an experiment to see whether it is causing a certain condition. In statistical inference, if the percieved IV effect is deemed statistically significant, meaning it falls within the 5% of results that are unlikely to occur by chance, researchers will reject the null hypothesis, which means that their hypothesis (that the IV effect caused a difference) may be correct. On the other hand, it the percieved IV effect is not statistically significant, researchers must fail to reject the null hypothesis, which means they acknowlege that the results of their experiment were likely to occur by chance alone. Greater IV effects are more likely to be statistically significant; therefore the larger the IV Effect (if error remains small as well), the more likely researchers are to reject the null hypothesis.', 'The iv effect is the difference between the two means.', \"The IV effect is simply the difference between two sample's means. It determines between-group variability. The IV effect is one of the two factors which play a role in determining the variance within a sample. IV effect is used to find the obtained t value, and is used when making the final decision to reject or accept the null hypothesis. If an IV Effect is small, that means the data is more accurate, because you want the IV Effect to be as close to 0 as possible. When selecting a hypothesis, it can be said that the IV Effect is real if we reject the null, and if we fail to reject it, it can be said that the IV Effect was just error. Thus, the effect size can tell us how important the IV Effect is in an experiment.\", 'The IV effect helps to decide to accept or reject the null hypothesis.', 'When it comes to statistical inference, the IV Effect shows how far a sample is from representing its population.', 'The IV effect is the difference between means of the group that had the IV applied to it and the group that did not. Any significant difference between the two groups is likely to be caused by the IV and is therefore the IV effect. In statistical inference, the IV effect can fall in different zones which represent the likelihood of the effect being due to chance/error or being real.', \"The IV effect is the different between the experimental group and the control group. The Iv effect plays a role in statistical inference because it shows how much variation occurs between groups. With this variation value we then calculate the T-value and it then allows us to make an inference on whether or not it is statistically significant. To be honest I was gonna study after this so if my answers are way off that's why.\", 'The IV effect is the independent variable effect or the way that the independent variable effects the data. For example, a dependent variable is likely not going to cause any major effects but the job of the independent variable is to be measured and determine its effects on the dependent variables. The IV Effect plays a role in statistical interference because it is a way that statistics become inferred with since the IV effect influences outcomes and data.']\n"
     ]
    }
   ],
   "source": [
    "Stats_data = load_data(r\"C:\\Users\\isaia\\OneDrive\\Desktop\\Academic work\\Scholarly activities\\Research voluntering\\Research voluntering 2024 Dr. Sanocki\\Stats & LLM\\Topic-modeling\\Stats_T.M_LDA\\Data\\Json Format\\Sanocki_Stats_Data.json\")\n",
    "\n",
    "for key in list(Stats_data.keys())[:5]:\n",
    "   print(key, Stats_data[key])\n",
    "\n",
    "    "
   ]
  },
  {
   "cell_type": "code",
   "execution_count": 19,
   "metadata": {},
   "outputs": [
    {
     "name": "stdout",
     "output_type": "stream",
     "text": [
      "dict_keys(['ID_code', 'Question 1', 'Question 2', 'Question 3'])\n"
     ]
    }
   ],
   "source": [
    "print(Stats_data.keys()) \n",
    "ID_code = Stats_data[\"ID_code\"]\n",
    "Question_2 = Stats_data[\"Question 2\"]   "
   ]
  },
  {
   "cell_type": "code",
   "execution_count": 20,
   "metadata": {},
   "outputs": [
    {
     "name": "stdout",
     "output_type": "stream",
     "text": [
      "O.A\n",
      "SE of Mean tells you how far the sample mean is from the main mean (population). SE of Difference is the difference between the two SE of Mean.\n",
      "\n",
      "Total number of participants in ID code: 19\n",
      "Total number of responses for question 1: 19\n"
     ]
    }
   ],
   "source": [
    "print(ID_code[0])\n",
    "print(Question_2[0])\n",
    "print()\n",
    "\n",
    "print(\"Total number of participants in ID code:\", len(ID_code))\n",
    "print(\"Total number of responses for question 1:\", len(Question_2))"
   ]
  },
  {
   "cell_type": "code",
   "execution_count": 21,
   "metadata": {},
   "outputs": [],
   "source": [
    "import string \n",
    "from nltk.corpus import stopwords  \n",
    "\n",
    "\n",
    "custom_stopwords = [\"also\", \"occur\", \"lets\", \"us\", \"likely\", \"would\", \"make\", \"may\", \"know\", \"aka\", \"ok\", \"versa\", \"vice\", \"well\", \"way\"]\n",
    "stops = stopwords.words(\"english\") + custom_stopwords  \n",
    "\n",
    "def clean_docs(docs):\n",
    "    stops = stopwords.words(\"english\")\n",
    "\n",
    "    final = [] \n",
    " \n",
    "    for doc in docs:\n",
    "        clean_doc = remove_stop_punc(doc, stops)\n",
    "        final.append(clean_doc)\n",
    "\n",
    "    return(final)    \n",
    "\n",
    "\n",
    "def remove_stop_punc(text, stops):\n",
    "    words = text.split()\n",
    "    final = []\n",
    "    for word in words:\n",
    "        if word.lower() not in stops:\n",
    "            final.append(word) \n",
    "\n",
    "    final = \" \".join(final)\n",
    "\n",
    "    final = \"\".join([i for i in final if not i.isdigit()])\n",
    "\n",
    "    final = final.replace(\"/\", \" \")\n",
    "\n",
    "    final = final.replace(\"-\", \" \")\n",
    "\n",
    "    final = final.translate(str.maketrans(\"\", \"\", string.punctuation + \"()\"))\n",
    "\n",
    "    while \"  \" in final:\n",
    "        final = final.replace(\"  \", \" \")\n",
    "    return (final)\n",
    "\n"
   ]
  },
  {
   "cell_type": "code",
   "execution_count": 22,
   "metadata": {},
   "outputs": [
    {
     "name": "stdout",
     "output_type": "stream",
     "text": [
      "Original Q2 data:\n",
      "SE of Mean tells you how far the sample mean is from the main mean (population). SE of Difference is the difference between the two SE of Mean.\n",
      "\n",
      "Cleaned Q2 data:\n",
      "SE Mean tells far sample mean main mean population SE Difference difference two SE Mean\n",
      "\n"
     ]
    }
   ],
   "source": [
    "cleaned_Question_2 = clean_docs(Question_2)\n",
    "cleaned_Question_2 = [remove_stop_punc(doc, stops) for doc in cleaned_Question_2]\n",
    "\n",
    "print(\"Original Q2 data:\")\n",
    "print(Question_2[0] + \"\\n\")\n",
    "\n",
    "print(\"Cleaned Q2 data:\")\n",
    "print(cleaned_Question_2[0] + \"\\n\")\n"
   ]
  },
  {
   "cell_type": "code",
   "execution_count": 23,
   "metadata": {},
   "outputs": [
    {
     "name": "stdout",
     "output_type": "stream",
     "text": [
      "  (0, 88)\t0.5846542859393999\n",
      "  (0, 107)\t0.3554275639903748\n",
      "  (0, 41)\t0.32503352070394587\n",
      "  (0, 82)\t0.26101504215979854\n",
      "  (0, 57)\t0.44984008582095103\n",
      "  (0, 68)\t0.39461230095154637\n"
     ]
    }
   ],
   "source": [
    "from sklearn.feature_extraction.text import TfidfVectorizer\n",
    "from sklearn.cluster import KMeans\n",
    "\n",
    "vectorizer = TfidfVectorizer( \n",
    "                                lowercase = True,\n",
    "                                max_features = 300,\n",
    "                                max_df = .75,\n",
    "                                min_df = 1,\n",
    "                                ngram_range = (1, 1),\n",
    "                                stop_words = \"english\"\n",
    ")\n",
    "\n",
    "vectors_Q2 = vectorizer.fit_transform(cleaned_Question_2)\n",
    "print(vectors_Q2[0:1])\n"
   ]
  },
  {
   "cell_type": "code",
   "execution_count": 24,
   "metadata": {},
   "outputs": [
    {
     "name": "stdout",
     "output_type": "stream",
     "text": [
      "word: se ---> TF-IDF Score: {0.5846542859393999}\n",
      "word: tells ---> TF-IDF Score: {0.3554275639903748}\n",
      "word: far ---> TF-IDF Score: {0.32503352070394587}\n",
      "word: sample ---> TF-IDF Score: {0.26101504215979854}\n",
      "word: main ---> TF-IDF Score: {0.44984008582095103}\n",
      "word: population ---> TF-IDF Score: {0.39461230095154637}\n"
     ]
    }
   ],
   "source": [
    "feature_names = vectorizer.get_feature_names_out() \n",
    "\n",
    "sparse_vectors_scores = vectors_Q2[0]\n",
    "\n",
    "for index, score in zip(sparse_vectors_scores.indices, sparse_vectors_scores.data):\n",
    "    print(\"word:\", feature_names[index], \"---> TF-IDF Score:\", {score})"
   ]
  },
  {
   "cell_type": "code",
   "execution_count": 25,
   "metadata": {},
   "outputs": [
    {
     "name": "stdout",
     "output_type": "stream",
     "text": [
      "[[0.         0.         0.         0.         0.         0.\n",
      "  0.         0.         0.         0.         0.         0.\n",
      "  0.         0.         0.         0.         0.         0.\n",
      "  0.         0.         0.         0.         0.         0.\n",
      "  0.         0.         0.         0.         0.         0.\n",
      "  0.         0.         0.         0.         0.         0.\n",
      "  0.         0.         0.         0.         0.         0.32503352\n",
      "  0.         0.         0.         0.         0.         0.\n",
      "  0.         0.         0.         0.         0.         0.\n",
      "  0.         0.         0.         0.44984009 0.         0.\n",
      "  0.         0.         0.         0.         0.         0.\n",
      "  0.         0.         0.3946123  0.         0.         0.\n",
      "  0.         0.         0.         0.         0.         0.\n",
      "  0.         0.         0.         0.         0.26101504 0.\n",
      "  0.         0.         0.         0.         0.58465429 0.\n",
      "  0.         0.         0.         0.         0.         0.\n",
      "  0.         0.         0.         0.         0.         0.\n",
      "  0.         0.         0.         0.         0.         0.35542756\n",
      "  0.         0.         0.         0.         0.         0.\n",
      "  0.         0.         0.         0.         0.        ]]\n"
     ]
    }
   ],
   "source": [
    "dense = vectors_Q2.todense()\n",
    "print(dense[0])"
   ]
  },
  {
   "cell_type": "code",
   "execution_count": 26,
   "metadata": {},
   "outputs": [
    {
     "name": "stdout",
     "output_type": "stream",
     "text": [
      "[0.0, 0.0, 0.0, 0.0, 0.0, 0.0, 0.0, 0.0, 0.0, 0.0, 0.0, 0.0, 0.0, 0.0, 0.0, 0.0, 0.0, 0.0, 0.0, 0.0, 0.0, 0.0, 0.0, 0.0, 0.0, 0.0, 0.0, 0.0, 0.0, 0.0, 0.0, 0.0, 0.0, 0.0, 0.0, 0.0, 0.0, 0.0, 0.0, 0.0, 0.0, 0.32503352070394587, 0.0, 0.0, 0.0, 0.0, 0.0, 0.0, 0.0, 0.0, 0.0, 0.0, 0.0, 0.0, 0.0, 0.0, 0.0, 0.44984008582095103, 0.0, 0.0, 0.0, 0.0, 0.0, 0.0, 0.0, 0.0, 0.0, 0.0, 0.39461230095154637, 0.0, 0.0, 0.0, 0.0, 0.0, 0.0, 0.0, 0.0, 0.0, 0.0, 0.0, 0.0, 0.0, 0.26101504215979854, 0.0, 0.0, 0.0, 0.0, 0.0, 0.5846542859393999, 0.0, 0.0, 0.0, 0.0, 0.0, 0.0, 0.0, 0.0, 0.0, 0.0, 0.0, 0.0, 0.0, 0.0, 0.0, 0.0, 0.0, 0.0, 0.3554275639903748, 0.0, 0.0, 0.0, 0.0, 0.0, 0.0, 0.0, 0.0, 0.0, 0.0, 0.0]\n"
     ]
    }
   ],
   "source": [
    "dense_list = dense.tolist()\n",
    "print(dense_list[0])"
   ]
  },
  {
   "cell_type": "code",
   "execution_count": 27,
   "metadata": {},
   "outputs": [
    {
     "name": "stdout",
     "output_type": "stream",
     "text": [
      "Original Text:\n",
      "SE of Mean tells you how far the sample mean is from the main mean (population). SE of Difference is the difference between the two SE of Mean.\n",
      "\n",
      "Cleaned Text:\n",
      "SE Mean tells far sample mean main mean population SE Difference difference two SE Mean\n",
      "\n",
      "Only Keywords Text:\n",
      "['far', 'main', 'population', 'sample', 'se', 'tells']\n"
     ]
    }
   ],
   "source": [
    "all_keywords = []\n",
    "for description in dense_list:\n",
    "    x = 0\n",
    "    keywords = []\n",
    "    for word in description:\n",
    "        if word > .25:\n",
    "            keywords.append(feature_names[x])\n",
    "        x += 1\n",
    "    all_keywords.append(keywords)\n",
    "\n",
    "\n",
    "# comparison of documents from begining and through processing\n",
    "print (\"Original Text:\")\n",
    "print (Question_2[0]+\"\\n\")\n",
    "\n",
    "print (\"Cleaned Text:\")\n",
    "print (cleaned_Question_2[0]+\"\\n\")\n",
    "\n",
    "print (\"Only Keywords Text:\")\n",
    "print (all_keywords[0])"
   ]
  },
  {
   "cell_type": "code",
   "execution_count": 28,
   "metadata": {},
   "outputs": [
    {
     "name": "stdout",
     "output_type": "stream",
     "text": [
      "Top words for each cluster\n",
      "Cluster 1: se, sample, far, compares, population\n",
      "Cluster 2: error, standard, means, data, samples\n"
     ]
    }
   ],
   "source": [
    "true_k = min(2, len(vectors_Q2.toarray()) // 2)  \n",
    "\n",
    "model = KMeans(\n",
    "    n_clusters = true_k,         \n",
    "    init = \"random\",   \n",
    "    max_iter = 100,        \n",
    "    n_init = 50,          \n",
    "    random_state = 1      \n",
    ")\n",
    "\n",
    "model.fit(vectors_Q2)  \n",
    "\n",
    "order_centroids = model.cluster_centers_.argsort()[:, ::-1]  \n",
    "\n",
    "terms = vectorizer.get_feature_names_out()\n",
    "\n",
    "print(\"Top words for each cluster\")\n",
    "for i in range(true_k):\n",
    "    top_words = [terms[ind] for ind in order_centroids[i, :5]]  \n",
    "    print(f\"Cluster {i + 1}: {', '.join(top_words)}\")\n",
    "\n",
    " "
   ]
  },
  {
   "cell_type": "code",
   "execution_count": 29,
   "metadata": {},
   "outputs": [
    {
     "name": "stdout",
     "output_type": "stream",
     "text": [
      "Cluster 0\n",
      "se\n",
      "sample\n",
      "far\n",
      "compares\n",
      "population\n",
      "\n",
      "Cluster 1\n",
      "error\n",
      "standard\n",
      "means\n",
      "data\n",
      "samples\n",
      "\n"
     ]
    }
   ],
   "source": [
    "i = 0 \n",
    "for clusters in order_centroids:\n",
    "    print(f\"Cluster {i}\")\n",
    "    for keyword in clusters[0:5]:\n",
    "        print(terms[keyword])\n",
    "    print(\"\")\n",
    "    i = i + 1"
   ]
  },
  {
   "cell_type": "code",
   "execution_count": 30,
   "metadata": {},
   "outputs": [
    {
     "data": {
      "image/png": "[encoded data removed]",
      "text/plain": [
       "<Figure size 1000x1000 with 1 Axes>"
      ]
     },
     "metadata": {},
     "output_type": "display_data"
    },
    {
     "name": "stdout",
     "output_type": "stream",
     "text": [
      "ID: O.A| Keywords: far, main, population, sample, se, tells\n",
      "ID: I.A| Keywords: population, sample, se\n",
      "ID: J.B| Keywords: dividing, number, sds, se, sem, squaring\n",
      "ID: P.C| Keywords: adding, differ, instead, kind, samples, shows, sqaure, standard, using\n",
      "ID: K.C| Keywords: calculates, data, error, means, se, set, standard\n",
      "ID: A.C| Keywords: error, individual, reference, standard\n",
      "ID: A.G| Keywords: sample, sd, size, square, squared, standard\n",
      "ID: A.K| Keywords: data, describes, far, represents, se, set, values, variability\n",
      "ID: K.K| Keywords: average, data, error, identifies, measures, sed, sem, set, sets\n",
      "ID: E.L| Keywords: control, experimental, group, se\n",
      "ID: C.MD| Keywords: error, groups, refers, type\n",
      "ID: S.M| Keywords: means, process, refers, takes\n",
      "ID: O.P| Keywords: divided, effect, iv, root, sd, sem, sqaured, square\n",
      "ID: T.P| Keywords: hypothesis, measure\n",
      "ID: A.Q| Keywords: data, far, results, se\n",
      "ID: A.R| Keywords: compares, sample\n",
      "ID: E.R| Keywords: associated, data, error, separate, sets, standard\n",
      "ID: G.T| Keywords: based, definitions, honest, large, level, quite, sample, se, sure\n",
      "ID: S.T| Keywords: differences, error, means, values\n"
     ]
    }
   ],
   "source": [
    "import matplotlib.pyplot as plt\n",
    "from sklearn.decomposition import PCA\n",
    "import numpy as np\n",
    "\n",
    "kmean_indices = model.predict(vectors_Q2)\n",
    "\n",
    "num_components = min(2, len(vectors_Q2.toarray()))  \n",
    "pca = PCA(n_components=num_components)\n",
    "scatter_plot_points = pca.fit_transform(vectors_Q2.toarray())\n",
    "\n",
    "colors = [\"red\", \"blue\"]\n",
    "\n",
    "num_clusters = len(set(kmean_indices))  \n",
    "cluster_colors = colors[:num_clusters]  \n",
    "\n",
    "x_axis = scatter_plot_points[:, 0]\n",
    "y_axis = scatter_plot_points[:, 1]\n",
    "\n",
    "fig, ax = plt.subplots(figsize=(10, 10))\n",
    "scatter = ax.scatter(x_axis, \n",
    "                     y_axis, \n",
    "                     c=[colors[d] for d in kmean_indices]\n",
    "                     )\n",
    "\n",
    "for i, txt in enumerate(ID_code):\n",
    "    ax.annotate(txt[0:11], \n",
    "                (x_axis[i], \n",
    "                 y_axis[i]), \n",
    "                textcoords=\"offset points\", \n",
    "                xytext=(5,5), \n",
    "                fontsize = 10)\n",
    "\n",
    "\n",
    "handles = [plt.Line2D([0],[0],\n",
    "                        marker = \"o\",\n",
    "                        color = \"w\",\n",
    "                        markerfacecolor = colors[i],\n",
    "                        markersize = 8) for i in range(num_clusters)\n",
    "            ]\n",
    "\n",
    "ax.legend(handles, \n",
    "          [f\"Cluster {i}\" for i in range(num_clusters)], \n",
    "          title = \"Clusters\")\n",
    "\n",
    "# Show Plot\n",
    "plt.show()\n",
    "\n",
    "for id_code, keywords in zip(ID_code, all_keywords):\n",
    "    print(f\"ID: {id_code}| Keywords: {', '.join(keywords)}\")\n"
   ]
  }
 ],
 "metadata": {
  "kernelspec": {
   "display_name": "Python 3",
   "language": "python",
   "name": "python3"
  },
  "language_info": {
   "codemirror_mode": {
    "name": "ipython",
    "version": 3
   },
   "file_extension": ".py",
   "mimetype": "text/x-python",
   "name": "python",
   "nbconvert_exporter": "python",
   "pygments_lexer": "ipython3",
   "version": "3.12.6"
  }
 },
 "nbformat": 4,
 "nbformat_minor": 2
}
